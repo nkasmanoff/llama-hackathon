{
 "cells": [
 {
 "cell_type": "code",
 "execution_count": null,
 "metadata": {},
 "outputs": [],
 "source": [
 "import pandas as pd\n",
 "import numpy as np\n",
 "import matplotlib.pyplot as plt\n",
 "import seaborn as sns"
 ]
 },
 {
 "cell_type": "code",
 "execution_count": null,
 "metadata": {},
 "outputs": [],
 "source": [
 "df = pd.read_csv('petals.csv')"
 ]
 },
 {
 "cell_type": "code",
 "execution_count": null,
 "metadata": {},
 "outputs": [],
 "source": [
 "print(df.head())\n",
 "print(df.info())\n",
 "print(df.describe())"
 ]
 },
 {
 "cell_type": "code",
 "execution_count": null,
 "metadata": {},
 "outputs": [],
 "source": [
 "print(df.isnull().sum())"
 ]
 },
 {
 "cell_type": "code",
 "execution_count": null,
 "metadata": {},
 "outputs": [],
 "source": [
 "sns.set()\n",
 "df.hist(figsize=(10, 8))\n",
 "plt.show()"
 ]
 },
 {
 "cell_type": "code",
 "execution_count": null,
 "metadata": {},
 "outputs": [],
 "source": [
 "sns.pairplot(df)\n",
 "plt.show()"
 ]
 },
 {
 "cell_type": "code",
 "execution_count": null,
 "metadata": {},
 "outputs": [],
 "source": [
 "correlation_matrix = df.corr()\n",
 "plt.figure(figsize=(10, 8))\n",
 "sns.heatmap(correlation_matrix, annot=True, cmap='coolwarm', square=True)\n",
 "plt.show()"
 ]
 }
 ],
 "metadata": {
 "kernelspec": {
 "display_name": "Python 3",
 "language": "python",
 "name": "python3"
 },
 "language_info": {
 "codemirror_mode": {
 "name": "ipython",
 "version": 3
 },
 "file_extension": ".py",
 "mimetype": "text/x-python",
 "name": "python",
 "nbconvert_exporter": "python",
 "pygments_lexer": "ipython3",
 "version": "3.8.8"
 }
 },
 "nbformat": 4,
 "nbformat_minor": 2
}
