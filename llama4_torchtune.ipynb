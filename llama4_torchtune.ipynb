{
 "cells": [
  {
   "cell_type": "code",
   "execution_count": null,
   "id": "2ab34bd0-d54e-40cc-8e28-4bd733552c1a",
   "metadata": {},
   "outputs": [],
   "source": [
    "!ls /data/hub/models--meta-llama--Llama-4-Scout-17B-16E/snapshots/14d516bdff6ac06cec40678529222f193386189c"
   ]
  },
  {
   "cell_type": "code",
   "execution_count": null,
   "id": "ba13690c-4c75-42f1-84ba-6ee4203f2cb4",
   "metadata": {},
   "outputs": [],
   "source": [
    "# !pip install  torchtune"
   ]
  },
  {
   "cell_type": "code",
   "execution_count": null,
   "id": "d198a977-d14d-42a3-80fe-c748b72d1e22",
   "metadata": {},
   "outputs": [],
   "source": [
    "# !git clone https://github.com/pytorch/torchtune.git"
   ]
  },
  {
   "cell_type": "code",
   "execution_count": null,
   "id": "8bbe0690-ec08-472e-87d0-6438644ceaac",
   "metadata": {},
   "outputs": [],
   "source": [
    "cd torchtune/"
   ]
  },
  {
   "cell_type": "code",
   "execution_count": null,
   "id": "671e08b5-848f-4f92-afc7-19aa9ea5ec7d",
   "metadata": {},
   "outputs": [],
   "source": [
    "!ls recipes/configs/llama4scout_17B_16E_lora.yaml"
   ]
  },
  {
   "cell_type": "code",
   "execution_count": null,
   "id": "ead11ef6-0f4d-484f-9ee8-3abaf06d1375",
   "metadata": {},
   "outputs": [],
   "source": [
    "# !pip install --pre --upgrade torchtune --extra-index-url https://download.pytorch.org/whl/nightly/cu126"
   ]
  },
  {
   "cell_type": "code",
   "execution_count": null,
   "id": "195a40c7-41f6-4201-a6e6-bb6b2b59f835",
   "metadata": {},
   "outputs": [],
   "source": [
    "!cat /opt/conda/lib/python3.12/site-packages/torchtune/training/checkpointing/_utils.py"
   ]
  },
  {
   "cell_type": "code",
   "execution_count": null,
   "id": "23bae7e4-8326-49c1-86a9-9fbceb9660bd",
   "metadata": {},
   "outputs": [],
   "source": [
    "!pip install -U wandb"
   ]
  },
  {
   "cell_type": "code",
   "execution_count": null,
   "id": "7240b67d-f1a5-49ea-8273-5d66450096be",
   "metadata": {},
   "outputs": [],
   "source": [
    "# !ls /data/hub/models--meta-llama--Llama-4-Scout-17B-16E/snapshots/14d516bdff6ac06cec40678529222f193386189c\n",
    "# !ls /data/hub/models--meta-llama--Llama-4-Scout-17B-16E-Instruct/snapshots/92f3b1597a195b523d8d9e5700e57e4fbb8f20d3/"
   ]
  },
  {
   "cell_type": "code",
   "execution_count": null,
   "id": "dadcd576-d72f-4693-a0fb-8d445eeac11a",
   "metadata": {},
   "outputs": [],
   "source": [
    "# !tune run --nproc_per_node 8 lora_finetune_distributed --config /home/jovyan/torchtune/recipes/configs/llama4/scout_17B_16E_lora.yaml \\\n",
    "#   checkpointer.checkpoint_dir=/data/hub/models--meta-llama--Llama-4-Scout-17B-16E/snapshots/14d516bdff6ac06cec40678529222f193386189c \\\n",
    "#   tokenizer.path=/data/hub/models--meta-llama--Llama-4-Scout-17B-16E/snapshots/14d516bdff6ac06cec40678529222f193386189c/tokenizer.model \\\n",
    "#   output_dir=/data/output/llama4a \\\n",
    "#     optimizer.lr=1e-6 \\\n",
    "#   clip_grad_norm=1.0 \\\n",
    "#   metric_logger._component_=torchtune.training.metric_logging.WandBLogger \\\n",
    "#   metric_logger.project=\"llama4_lora\" \\\n",
    "#   log_every_n_steps=5\n"
   ]
  },
  {
   "cell_type": "code",
   "execution_count": null,
   "id": "22a39835-afe7-4cff-bf63-57e6cf8296ba",
   "metadata": {},
   "outputs": [],
   "source": [
    "!tune run --nproc_per_node 8 lora_finetune_distributed --config /home/jovyan/torchtune/recipes/configs/llama4/scout_17B_16E_lora.yaml \\\n",
    "  checkpointer.checkpoint_dir=/data/hub/models--meta-llama--Llama-4-Scout-17B-16E-Instruct/snapshots/92f3b1597a195b523d8d9e5700e57e4fbb8f20d3 \\\n",
    "  tokenizer.path=/data/hub/models--meta-llama--Llama-4-Scout-17B-16E/snapshots/14d516bdff6ac06cec40678529222f193386189c/tokenizer.model \\\n",
    "model.fusion_trainable=\"frozen\" \\\n",
    "model.apply_lora_to_mlp=false \\\n",
    "  output_dir=/data/output/llama4a \\\n",
    "    optimizer.lr=1e-7 \\\n",
    "    optimizer.weight_decay=0.0 \\\n",
    "  clip_grad_norm=0.001 \\\n",
    "  model.lora_attn_modules=\"\"\"['q_proj',]\"\"\" \\\n",
    "  metric_logger._component_=torchtune.training.metric_logging.WandBLogger \\\n",
    "  metric_logger.project=\"llama4_lora\" \\\n",
    "  log_every_n_steps=5\n"
   ]
  },
  {
   "cell_type": "code",
   "execution_count": null,
   "id": "9133fb5d-e0a6-4c3e-995f-3be2ec567f2b",
   "metadata": {},
   "outputs": [],
   "source": []
  },
  {
   "cell_type": "code",
   "execution_count": null,
   "id": "81f70789-75f5-4758-aec3-7b0c66abc524",
   "metadata": {},
   "outputs": [],
   "source": [
    "download_directory = \"/data/hub/\""
   ]
  },
  {
   "cell_type": "code",
   "execution_count": null,
   "id": "2846d77e-95b6-4999-a8ca-62372fc5891b",
   "metadata": {},
   "outputs": [],
   "source": [
    "import json\n",
    "import logging\n",
    "import os\n",
    "from typing import Optional\n",
    "\n",
    "from huggingface_hub import snapshot_download\n",
    "logging.basicConfig(\n",
    "    level=logging.INFO, format=\"%(asctime)s - %(name)s - %(levelname)s - %(message)s\"\n",
    ")\n",
    "log = logging.getLogger(__name__)"
   ]
  },
  {
   "cell_type": "code",
   "execution_count": null,
   "id": "021cc3b7-1fbb-47f4-ac85-39b0b36b7f19",
   "metadata": {},
   "outputs": [],
   "source": [
    "def download_model(repo_id: str, max_workers: Optional[int] = 32):\n",
    "    log.info(f\"downloading {repo_id}\")\n",
    "    _id = repo_id.replace(\".\", \"__\").replace(\"-\", \"_\")\n",
    "    local_dir = os.path.join(download_directory, _id)\n",
    "    snapshot_download(\n",
    "        repo_id=repo_id,\n",
    "        repo_type=\"model\",\n",
    "        revision=None,\n",
    "        cache_dir=None,\n",
    "        max_workers=max_workers,\n",
    "        ignore_patterns=[\"*.bin\"],\n",
    "        local_dir=local_dir,\n",
    "        token=os.environ[\"HUGGING_FACE_HUB_TOKEN\"],\n",
    "    )\n",
    "    log.info(f\"saved {local_dir}\")"
   ]
  },
  {
   "cell_type": "code",
   "execution_count": null,
   "id": "197843d6-8953-40c6-bc0e-99f220d1f78f",
   "metadata": {},
   "outputs": [],
   "source": [
    "repo_id = \"meta-llama/Llama-4-Scout-17B-16E\""
   ]
  },
  {
   "cell_type": "code",
   "execution_count": null,
   "id": "1145956b-7c37-4bb5-8030-d3df236dcbcf",
   "metadata": {},
   "outputs": [],
   "source": [
    "download_model(repo_id)"
   ]
  },
  {
   "cell_type": "code",
   "execution_count": null,
   "id": "e374a712-38f0-47f9-9569-5104dd5efb5b",
   "metadata": {},
   "outputs": [],
   "source": [
    "# !pip3 install torchtune torchao"
   ]
  },
  {
   "cell_type": "code",
   "execution_count": null,
   "id": "f2e8de97-a822-4c53-8fbb-350472e7a5d9",
   "metadata": {},
   "outputs": [],
   "source": [
    "# !tune download meta-llama/Llama-4-Scout-17B-16E"
   ]
  },
  {
   "cell_type": "code",
   "execution_count": null,
   "id": "25feed60-9e73-4e4d-b838-49ac64efbdf6",
   "metadata": {},
   "outputs": [],
   "source": [
    "!mkdir -p /home/jovyan/llama4/scout_17B_16E_lora"
   ]
  },
  {
   "cell_type": "code",
   "execution_count": null,
   "id": "921e7751-69a9-4b24-ad07-1a6af8ab15e3",
   "metadata": {},
   "outputs": [],
   "source": [
    "!tune run --nproc_per_node 8 lora_finetune_distributed --config llama4/scout_17B_16E_lora \\\n",
    "  metric_logger._component_=torchtune.utils.metric_logging.WandBLogger \\\n",
    "  metric_logger.project=\"llama4_lora\" \\\n",
    "  log_every_n_steps=5"
   ]
  },
  {
   "cell_type": "code",
   "execution_count": null,
   "id": "9ff1ebd9-4938-4dac-b65e-69febd93e440",
   "metadata": {},
   "outputs": [],
   "source": []
  },
  {
   "cell_type": "code",
   "execution_count": null,
   "id": "e61e3253-180e-4227-a46d-0e08840cc00a",
   "metadata": {},
   "outputs": [],
   "source": []
  },
  {
   "cell_type": "code",
   "execution_count": null,
   "id": "729998eb-d7dc-42c1-8489-9836604afbd7",
   "metadata": {},
   "outputs": [],
   "source": []
  }
 ],
 "metadata": {
  "kernelspec": {
   "display_name": "Python 3 (ipykernel)",
   "language": "python",
   "name": "python3"
  },
  "language_info": {
   "codemirror_mode": {
    "name": "ipython",
    "version": 3
   },
   "file_extension": ".py",
   "mimetype": "text/x-python",
   "name": "python",
   "nbconvert_exporter": "python",
   "pygments_lexer": "ipython3",
   "version": "3.12.9"
  }
 },
 "nbformat": 4,
 "nbformat_minor": 5
}
